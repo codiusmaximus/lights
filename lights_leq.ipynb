{
 "nbformat": 4,
 "nbformat_minor": 2,
 "metadata": {
  "language_info": {
   "name": "python",
   "codemirror_mode": {
    "name": "ipython",
    "version": 3
   },
   "version": "2.7.15-final"
  },
  "orig_nbformat": 2,
  "file_extension": ".py",
  "mimetype": "text/x-python",
  "name": "python",
  "npconvert_exporter": "python",
  "pygments_lexer": "ipython3",
  "version": 3,
  "kernelspec": {
   "name": "python271564bitbaenvcondaf8f9737bdcf24ceaae41bd64942a3d37",
   "display_name": "Python 2.7.15 64-bit ('baenv': conda)"
  }
 },
 "cells": [
  {
   "cell_type": "code",
   "execution_count": 18,
   "metadata": {},
   "outputs": [
    {
     "data": {
      "text/plain": "(<5x1 matrix, tc='d'>,\n <5x4 matrix, tc='d'>,\n <1x4 matrix, tc='d'>,\n <1x5 matrix, tc='d'>,\n <1x1 matrix, tc='d'>)"
     },
     "execution_count": 18,
     "metadata": {},
     "output_type": "execute_result"
    }
   ],
   "source": [
    "from cvxopt import matrix\n",
    "from cvxopt import glpk\n",
    "from scipy import sparse\n",
    "import numpy as np\n",
    "\n",
    "# formulate problem in terms of ECOS\n",
    "A_ineq = [[0.,1.,1.,0.,0.],[1.,-1.,0.,0.,0.],[0.,0.,0.,-1.,-1.],[-1.,0.,0.,-1.,1.]]\n",
    "\n",
    "B_ineq = [2.,1.,0.,1]\n",
    "\n",
    "A_eq = [[0.],[0.],[-1.],[1.],[0.]]\n",
    "\n",
    "B_eq = [0.]\n",
    "\n",
    "c = [1.,1.,1.,1.,1.]\n",
    "\n",
    "c, A_ineq, B_ineq, A_eq, B_eq = matrix(c), matrix(A_ineq), matrix(B_ineq).T, matrix(A_eq), matrix(B_eq)\n",
    "\n",
    "Binary_ind = range(5)\n",
    "#{Y R G B P}\n",
    "c, A_ineq, B_ineq, A_eq, B_eq"
   ]
  },
  {
   "cell_type": "code",
   "execution_count": 19,
   "metadata": {},
   "outputs": [
    {
     "ename": "ValueError",
     "evalue": "incompatible dimensions",
     "output_type": "error",
     "traceback": [
      "\u001b[0;31m\u001b[0m",
      "\u001b[0;31mValueError\u001b[0mTraceback (most recent call last)",
      "\u001b[0;32m<ipython-input-19-52dcbea00fd5>\u001b[0m in \u001b[0;36m<module>\u001b[0;34m()\u001b[0m\n\u001b[0;32m----> 1\u001b[0;31m \u001b[0mstatus\u001b[0m\u001b[0;34m,\u001b[0m \u001b[0msolution\u001b[0m \u001b[0;34m=\u001b[0m \u001b[0mglpk\u001b[0m\u001b[0;34m.\u001b[0m\u001b[0milp\u001b[0m\u001b[0;34m(\u001b[0m\u001b[0mc\u001b[0m\u001b[0;34m,\u001b[0m \u001b[0mA_ineq\u001b[0m\u001b[0;34m,\u001b[0m \u001b[0mB_ineq\u001b[0m\u001b[0;34m,\u001b[0m \u001b[0mA_eq\u001b[0m\u001b[0;34m,\u001b[0m \u001b[0mB_eq\u001b[0m\u001b[0;34m,\u001b[0m \u001b[0mB\u001b[0m\u001b[0;34m=\u001b[0m\u001b[0mset\u001b[0m\u001b[0;34m(\u001b[0m\u001b[0mBinary_ind\u001b[0m\u001b[0;34m)\u001b[0m\u001b[0;34m,\u001b[0m\u001b[0moptions\u001b[0m\u001b[0;34m=\u001b[0m\u001b[0;34m{\u001b[0m\u001b[0;34m'tm_lim'\u001b[0m\u001b[0;34m:\u001b[0m \u001b[0;36m10000\u001b[0m\u001b[0;34m,\u001b[0m \u001b[0;34m'msg_lev'\u001b[0m\u001b[0;34m:\u001b[0m \u001b[0;34m'GLP_MSG_OFF'\u001b[0m\u001b[0;34m,\u001b[0m \u001b[0;34m'it_lim'\u001b[0m\u001b[0;34m:\u001b[0m \u001b[0;36m5000\u001b[0m\u001b[0;34m}\u001b[0m\u001b[0;34m)\u001b[0m\u001b[0;34m\u001b[0m\u001b[0m\n\u001b[0m\u001b[1;32m      2\u001b[0m \u001b[0;34m\u001b[0m\u001b[0m\n\u001b[1;32m      3\u001b[0m \u001b[0;32mif\u001b[0m \u001b[0mstatus\u001b[0m\u001b[0;34m==\u001b[0m\u001b[0;34m'optimal'\u001b[0m\u001b[0;34m:\u001b[0m\u001b[0;34m\u001b[0m\u001b[0m\n\u001b[1;32m      4\u001b[0m     \u001b[0mx1\u001b[0m\u001b[0;34m=\u001b[0m \u001b[0msolution\u001b[0m\u001b[0;34m[\u001b[0m\u001b[0;36m0\u001b[0m\u001b[0;34m]\u001b[0m\u001b[0;34m\u001b[0m\u001b[0m\n\u001b[1;32m      5\u001b[0m     \u001b[0mx2\u001b[0m\u001b[0;34m=\u001b[0m\u001b[0msolution\u001b[0m\u001b[0;34m[\u001b[0m\u001b[0;36m1\u001b[0m\u001b[0;34m]\u001b[0m\u001b[0;34m\u001b[0m\u001b[0m\n",
      "\u001b[0;31mValueError\u001b[0m: incompatible dimensions"
     ]
    }
   ],
   "source": [
    "status, solution = glpk.ilp(c, A_ineq, B_ineq, A_eq, B_eq, B=set(Binary_ind),options={'tm_lim': 10000, 'msg_lev': 'GLP_MSG_OFF', 'it_lim': 5000})\n",
    "\n",
    "if status=='optimal':\n",
    "    x1= solution[0]\n",
    "    x2=solution[1]\n",
    "    print(x1,x2)\n",
    "else: \n",
    "    print(status)"
   ]
  },
  {
   "cell_type": "code",
   "execution_count": 11,
   "metadata": {},
   "outputs": [
    {
     "data": {
      "text/plain": "(<5x1 matrix, tc='d'>, <5x4 matrix, tc='d'>)"
     },
     "execution_count": 11,
     "metadata": {},
     "output_type": "execute_result"
    }
   ],
   "source": [
    "c,A_ineq"
   ]
  },
  {
   "cell_type": "code",
   "execution_count": null,
   "metadata": {},
   "outputs": [],
   "source": []
  }
 ]
}