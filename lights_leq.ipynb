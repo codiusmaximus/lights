{
 "nbformat": 4,
 "nbformat_minor": 2,
 "metadata": {
  "language_info": {
   "name": "python",
   "codemirror_mode": {
    "name": "ipython",
    "version": 3
   },
   "version": "2.7.15-final"
  },
  "orig_nbformat": 2,
  "file_extension": ".py",
  "mimetype": "text/x-python",
  "name": "python",
  "npconvert_exporter": "python",
  "pygments_lexer": "ipython3",
  "version": 3,
  "kernelspec": {
   "name": "python271564bitbaenvcondaf8f9737bdcf24ceaae41bd64942a3d37",
   "display_name": "Python 2.7.15 64-bit ('baenv': conda)"
  }
 },
 "cells": [
  {
   "cell_type": "code",
   "execution_count": 3,
   "metadata": {},
   "outputs": [],
   "source": [
    "import ecos\n",
    "from scipy import sparse\n",
    "import numpy as np\n",
    "# formulate problem in terms of ECOS\n",
    "A_ineq =  np.row_stack([\n",
    "    np.column_stack([1.,-1.,0.,0.,0.]),\n",
    "    np.column_stack([0.,0.,0.,-1.,-1.]),\n",
    "    np.column_stack([-1.,0.,0.,-1.,1.])\n",
    "    ])\n",
    "\n",
    "B_ineq = np.concatenate([[1.],[0.],[-2.]])\n",
    "\n",
    "A_eq =   np.row_stack([np.column_stack([0.,1.,1.,0.,0.]),np.column_stack([0.,0.,-1.,1.,0.])])\n",
    "\n",
    "B_eq = np.concatenate([[1.],[0.]])\n",
    "\n",
    "c = np.concatenate([[1.],[1.],[1.],[1.],[1.]])\n",
    "\n",
    "dims_s = {'l': A_ineq.shape[0]}\n",
    "\n",
    "G_sp = sparse.csr_matrix(A_ineq)\n",
    "A_sp = sparse.csr_matrix(A_eq)\n",
    "\n",
    "Binary_ind = range(5)\n",
    "#{Y R G B P}"
   ]
  },
  {
   "cell_type": "code",
   "execution_count": 4,
   "metadata": {},
   "outputs": [
    {
     "name": "stdout",
     "output_type": "stream",
     "text": "Iter\tLower Bound\tUpper Bound\tGap\n================================================\n0 \t3.00 \t\t3.00 \t\t0.00\nSolution Found- ecos\n[ 1.00000000e+00  4.50775350e-11  1.00000000e+00  1.00000000e+00\n -2.50726748e-11]\n"
    }
   ],
   "source": [
    "solution = ecos.solve(c, G_sp, B_ineq, dims_s,A=A_sp, b=B_eq,\n",
    "                      bool_vars_idx=list(Binary_ind), mi_max_iters=5000,verbose=False)\n",
    "\n",
    "if solution['info']['exitFlag'] == 0:\n",
    "    print('Solution Found- ecos')\n",
    "    print(solution['x'])\n"
   ]
  },
  {
   "cell_type": "code",
   "execution_count": 41,
   "metadata": {},
   "outputs": [
    {
     "data": {
      "text/plain": "<3x5 sparse matrix of type '<type 'numpy.int64'>'\n\twith 7 stored elements in Compressed Sparse Row format>"
     },
     "execution_count": 41,
     "metadata": {},
     "output_type": "execute_result"
    }
   ],
   "source": [
    "G_sp"
   ]
  },
  {
   "cell_type": "code",
   "execution_count": 44,
   "metadata": {},
   "outputs": [
    {
     "data": {
      "text/plain": "array([[ 1, -1,  0,  0,  0],\n       [ 0,  0,  0, -1, -1],\n       [-1,  0,  0, -1,  1]])"
     },
     "execution_count": 44,
     "metadata": {},
     "output_type": "execute_result"
    }
   ],
   "source": [
    "A_ineq_m"
   ]
  },
  {
   "cell_type": "code",
   "execution_count": null,
   "metadata": {},
   "outputs": [],
   "source": []
  }
 ]
}