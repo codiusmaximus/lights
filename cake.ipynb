{
 "cells": [
  {
   "cell_type": "code",
   "execution_count": 11,
   "metadata": {},
   "outputs": [
    {
     "output_type": "stream",
     "name": "stdout",
     "text": "WITHOUT BOUNDS\n     con: array([ 5.27055590e-08, -3.78719278e-11])\n     fun: 249.99999998121916\n message: 'Optimization terminated successfully.'\n     nit: 5\n   slack: array([3.39247208e-08, 6.95661413e+01, 7.24656159e+01])\n  status: 0\n success: True\n       x: array([302.8994746 , 147.10052537,  83.33333333, 166.66666665])\n"
    }
   ],
   "source": [
    "from scipy.optimize import linprog\n",
    "import numpy as np\n",
    "from cvxopt import matrix\n",
    "from cvxopt import glpk\n",
    "\n",
    "# The perfect cake recipe that I partially remember\n",
    "\n",
    "# Equations to solve\n",
    "# f + e + b + s = 700\n",
    "# b -0.5s = 0\n",
    "# f + e <= 450\n",
    "# e + b <= 300\n",
    "# -f + e - b + s <= 0\n",
    "\n",
    "# X matrix\n",
    "var_list = ['Flour', 'Eggs', 'Butter', 'Sugar']\n",
    "\n",
    "# Inequality equations, LHS\n",
    "A_ineq = [[1., 1., 0., 0.], [0., 1., 1., 0.], [-1., 1., -1., 1.]]\n",
    "\n",
    "# Inequality equations, RHS\n",
    "B_ineq = [450., 300.,0.]\n",
    "\n",
    "# Equality equations, LHS\n",
    "A_eq = [[1., 1., 1., 1.], [0., 0., 1., -0.5]]\n",
    "\n",
    "# Equality equations, RHS\n",
    "B_eq = [700., 0]\n",
    "\n",
    "# Cost function\n",
    "c = [0., 0., 1., 1.]  # construct a cost function\n",
    "\n",
    "print('WITHOUT BOUNDS')\n",
    "res_no_bounds = linprog(c, A_ub=A_ineq, b_ub=B_ineq, A_eq=A_eq, b_eq=B_eq, method='interior-point')\n",
    "print(res_no_bounds)\n",
    "\n"
   ]
  },
  {
   "cell_type": "code",
   "execution_count": 12,
   "metadata": {},
   "outputs": [
    {
     "output_type": "stream",
     "name": "stdout",
     "text": "\nWITH BOUNDS\n     con: array([ 4.53132998e-09, -3.25428573e-12])\n     fun: 249.9999999983819\n message: 'Optimization terminated successfully.'\n     nit: 6\n   slack: array([2.91322522e-09, 5.30261661e+01, 3.93856656e+01])\n  status: 0\n success: True\n       x: array([286.35949946, 163.64050053,  83.33333333, 166.66666667])\n"
    }
   ],
   "source": [
    "# these are the bounds that help the solver arrive at a solution \n",
    "f_b = [0., 300.]  # limits for flour\n",
    "e_b = [0., 200.]  # limits for eggs\n",
    "b_b = [0., 100.]  # limits for butter\n",
    "s_b = [0., 200.]  # limits for sugar\n",
    "\n",
    "res_bounds = linprog(c, A_ub=A_ineq, b_ub=B_ineq, A_eq=A_eq, b_eq=B_eq, bounds=(f_b, e_b, b_b, s_b),\n",
    "                     method='interior-point')\n",
    "print('\\nWITH BOUNDS')\n",
    "print(res_bounds)"
   ]
  },
  {
   "cell_type": "code",
   "execution_count": 13,
   "metadata": {},
   "outputs": [
    {
     "output_type": "stream",
     "name": "stdout",
     "text": "\n\nResult (no bounds):\n {'Flour': 303.0, 'Eggs': 147.0, 'Butter': 83.0, 'Sugar': 167.0}\nResult (with bounds):\n {'Flour': 286.0, 'Eggs': 164.0, 'Butter': 83.0, 'Sugar': 167.0}\n"
    }
   ],
   "source": [
    "# Write a parser for SciPy results\n",
    "def result_parser(res, var_list):\n",
    "    solve_status = res.success\n",
    "    if solve_status is True:\n",
    "        solution_list = res.x\n",
    "        soln = {var_list[i]: np.round(solution_list[i]) for i in range(len(var_list))}\n",
    "    else:\n",
    "        soln = []\n",
    "    return soln\n",
    "\n",
    "print('\\n')\n",
    "print('Result (no bounds):\\n', result_parser(res_no_bounds, var_list))\n",
    "print('Result (with bounds):\\n', result_parser(res_bounds, var_list))\n"
   ]
  },
  {
   "cell_type": "code",
   "execution_count": 15,
   "metadata": {},
   "outputs": [
    {
     "output_type": "stream",
     "name": "stdout",
     "text": "solution found\n[ 2.67e+02]\n[ 1.83e+02]\n[ 8.33e+01]\n[ 1.67e+02]\n\n"
    }
   ],
   "source": [
    "# formulate problem in terms of GLPK/cvxopt\n",
    "c_mat, A_ineq_mat, B_ineq_mat, A_eq_mat, B_eq_mat = matrix(c), matrix(A_ineq).T, matrix(B_ineq), matrix(A_eq).T, matrix(B_eq)\n",
    "\n",
    "# solve the problem\n",
    "status, solution = glpk.ilp(c_mat, A_ineq_mat, B_ineq_mat, A_eq_mat, B_eq_mat)\n",
    "\n",
    "if status=='optimal':\n",
    "    print('solution found')\n",
    "    print(solution)\n",
    "else: \n",
    "    print(status)"
   ]
  },
  {
   "cell_type": "code",
   "execution_count": 26,
   "metadata": {},
   "outputs": [
    {
     "output_type": "stream",
     "name": "stdout",
     "text": "With Additional Eq.\n\nResult (no bounds):\n {'Flour': 333.0, 'Eggs': 117.0, 'Butter': 83.0, 'Sugar': 167.0}\nResult (with bounds):\n {'Flour': 300.0, 'Eggs': 100.0, 'Butter': 100.0, 'Sugar': 200.0}\n"
    }
   ],
   "source": [
    "# Adding the extra equality equation\n",
    "# f + s = 500\n",
    "\n",
    "# Equality equations, LHS\n",
    "A_eq_add = A_eq + [[1.,0.,0.,1.]]\n",
    "\n",
    "# Equality equations, RHS\n",
    "B_eq_add = B_eq + [500]\n",
    "\n",
    "# run the SciPy solver without bounds\n",
    "res_no_bounds_add = linprog(c, A_ub=A_ineq, b_ub=B_ineq, A_eq=A_eq_add, b_eq=B_eq_add, method='interior-point')\n",
    "\n",
    "# run the SciPy solver with bounds\n",
    "res_bounds_add = linprog(c, A_ub=A_ineq, b_ub=B_ineq, A_eq=A_eq_add, b_eq=B_eq_add, bounds=(f_b, e_b, b_b, s_b),\n",
    "                     method='interior-point')\n",
    "\n",
    "print('With Additional Eq.\\n')\n",
    "print('Result (no bounds):\\n', result_parser(res_no_bounds_add, var_list))\n",
    "print('Result (with bounds):\\n', result_parser(res_bounds_add, var_list))\n",
    "        "
   ]
  },
  {
   "cell_type": "code",
   "execution_count": 27,
   "metadata": {},
   "outputs": [
    {
     "output_type": "stream",
     "name": "stdout",
     "text": "solution found\n[ 3.33e+02]\n[ 1.17e+02]\n[ 8.33e+01]\n[ 1.67e+02]\n\n"
    }
   ],
   "source": [
    "# formulate problem in terms of GLPK/cvxopt\n",
    "A_eq_add_mat, B_eq_add_mat = matrix(A_eq_add).T, matrix(B_eq_add)\n",
    "\n",
    "# solve the problem\n",
    "status_add, solution_add = glpk.ilp(c_mat, A_ineq_mat, B_ineq_mat, A_eq_add_mat, B_eq_add_mat)\n",
    "\n",
    "if status_add=='optimal':\n",
    "    print('solution found')\n",
    "    print(solution_add)\n",
    "else: \n",
    "    print(status_add)"
   ]
  }
 ],
 "metadata": {
  "language_info": {
   "name": "python",
   "codemirror_mode": {
    "name": "ipython",
    "version": 3
   },
   "version": "3.8.2-final"
  },
  "orig_nbformat": 2,
  "file_extension": ".py",
  "mimetype": "text/x-python",
  "name": "python",
  "npconvert_exporter": "python",
  "pygments_lexer": "ipython3",
  "version": 3,
  "kernelspec": {
   "name": "python38264bitbatestconda6bad81d910b94081b7b7775edb7648d7",
   "display_name": "Python 3.8.2 64-bit ('batest': conda)"
  }
 },
 "nbformat": 4,
 "nbformat_minor": 2
}