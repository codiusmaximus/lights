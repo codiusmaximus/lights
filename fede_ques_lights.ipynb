{
 "cells": [
  {
   "cell_type": "code",
   "execution_count": 1,
   "metadata": {},
   "outputs": [
    {
     "name": "stdout",
     "output_type": "stream",
     "text": "[[1 0 0 0 0]\n [0 1 0 0 0]\n [0 0 1 0 0]\n [0 0 0 1 0]\n [0 0 0 0 1]\n [1 1 0 0 0]\n [1 0 1 0 0]\n [1 0 0 1 0]\n [1 0 0 0 1]\n [0 1 1 0 0]\n [0 1 0 1 0]\n [0 1 0 0 1]\n [0 0 1 1 0]\n [0 0 1 0 1]\n [0 0 0 1 1]\n [1 1 1 0 0]\n [1 1 0 1 0]\n [1 1 0 0 1]\n [1 0 1 1 0]\n [1 0 1 0 1]\n [1 0 0 1 1]\n [0 1 1 1 0]\n [0 1 1 0 1]\n [0 1 0 1 1]\n [0 0 1 1 1]\n [1 1 1 1 0]\n [1 1 1 0 1]\n [1 1 0 1 1]\n [1 0 1 1 1]\n [0 1 1 1 1]\n [1 1 1 1 1]]\n"
    }
   ],
   "source": [
    "import numpy as np\n",
    "import itertools\n",
    "\n",
    "# order Y,G,R,B,P\n",
    "# create a list of all possible permutations \n",
    "\n",
    "n = 5\n",
    "i = np.array(np.indices(n * (2,))).reshape(n, -1)\n",
    "all_list = i[:, np.argsort(i.sum(0)[::-1], kind='mergesort')].T[::-1]\n",
    "all_list = all_list[1:] # remove the all off condition\n",
    "print(all_list)"
   ]
  },
  {
   "cell_type": "code",
   "execution_count": 2,
   "metadata": {},
   "outputs": [
    {
     "name": "stdout",
     "output_type": "stream",
     "text": "[0 1 0 1 0] T\n"
    }
   ],
   "source": [
    "output = []\n",
    "\n",
    "for my_list in all_list:\n",
    "    \n",
    "    simul = 'T'\n",
    "    \n",
    "    Y = my_list[0]\n",
    "    G = my_list[1]\n",
    "    R = my_list[2]\n",
    "    B = my_list[3]\n",
    "    P = my_list[4]\n",
    "            \n",
    "    while simul == 'T':\n",
    "        # C1\n",
    "        if Y==1 and Y+R ==1:\n",
    "            simul ='F'\n",
    "        \n",
    "        if R == 1 and G == 1:\n",
    "            simul ='F'\n",
    "            \n",
    "        if B+G == 1:\n",
    "            simul ='F'\n",
    "            \n",
    "        if B + P == 0:\n",
    "            simul ='F'\n",
    "            \n",
    "        if P == 1 and B + Y < 2:\n",
    "            simul ='F'\n",
    "        \n",
    "        if simul == 'T':\n",
    "            output.append(list(my_list))\n",
    "            print (my_list,simul)\n",
    "            simul ='F'"
   ]
  }
 ],
 "metadata": {
  "kernelspec": {
   "display_name": "Python 3",
   "language": "python",
   "name": "python3"
  },
  "language_info": {
   "codemirror_mode": {
    "name": "ipython",
    "version": 2
   },
   "file_extension": ".py",
   "mimetype": "text/x-python",
   "name": "python",
   "nbconvert_exporter": "python",
   "pygments_lexer": "ipython2",
   "version": "3.5.6-final"
  }
 },
 "nbformat": 4,
 "nbformat_minor": 0
}