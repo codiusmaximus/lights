{
 "nbformat": 4,
 "nbformat_minor": 2,
 "metadata": {
  "language_info": {
   "name": "python",
   "codemirror_mode": {
    "name": "ipython",
    "version": 3
   },
   "version": "3.5.6-final"
  },
  "orig_nbformat": 2,
  "file_extension": ".py",
  "mimetype": "text/x-python",
  "name": "python",
  "npconvert_exporter": "python",
  "pygments_lexer": "ipython3",
  "version": 3,
  "kernelspec": {
   "name": "python3",
   "display_name": "Python 3"
  }
 },
 "cells": [
  {
   "cell_type": "code",
   "execution_count": 1,
   "metadata": {},
   "outputs": [],
   "source": [
    "from cvxopt import matrix\n",
    "from cvxopt import glpk\n",
    "import numpy as np"
   ]
  },
  {
   "cell_type": "code",
   "execution_count": 3,
   "metadata": {},
   "outputs": [
    {
     "output_type": "stream",
     "name": "stdout",
     "text": "solution found\nYellow is OFF , Red is OFF , Green is ON , Blue is ON , Purple is OFF\n"
    }
   ],
   "source": [
    "# solution interpreter\n",
    "# order: Y R G B P\n",
    "\n",
    "def solution_lights(sol_list):\n",
    "    sol_var = ['Yellow','Red','Green','Blue','Purple']\n",
    "    sol_string = [sol_var[i] + ' is ON'  if sol_list[i] == 1 \n",
    "    else sol_var[i] + ' is OFF' for i in range (len(sol_var))]\n",
    "    sol_string_out = 'Lights that are on'\n",
    "    return ' , '.join(sol_string)\n",
    "\n",
    "# formulate problem in terms of ECOS\n",
    "A_ineq = [\n",
    "    [ 1.,-1., 0., 0., 0.],\n",
    "    [ 0., 1., 1., 0., 0.],\n",
    "    [ 0., 0., 0.,-1.,-1.],\n",
    "    [-1., 0., 0.,-1., 1.],\n",
    "    #[-1.,-1.,-1.,-1.,-1.]\n",
    "    ]\n",
    "\n",
    "#B_ineq = [0.,1.,-1.,-1.,-1.]\n",
    "B_ineq = [0.,1.,-1.,-1.]\n",
    "\n",
    "A_eq = [[0.],[0.],[-1.],[1.],[0.]]\n",
    "\n",
    "B_eq = [0.]\n",
    "\n",
    "c = [1.,1.,1.,1.,1.]\n",
    "# c = [-1.,-1.,-1.,-1.,-1.]\n",
    "\n",
    "c, A_ineq, B_ineq, A_eq, B_eq = matrix(c), matrix(A_ineq).T, matrix(B_ineq), matrix(A_eq), matrix(B_eq)\n",
    "\n",
    "Binary_ind = range(5)\n",
    "\n",
    "status, solution = glpk.ilp(c, A_ineq, B_ineq, A_eq, B_eq, B=set(Binary_ind),options={'tm_lim': 10000, 'msg_lev': 'GLP_MSG_OFF', 'it_lim': 5000})\n",
    "\n",
    "if status=='optimal':\n",
    "    print('solution found')\n",
    "else: \n",
    "    print(status)\n",
    "\n",
    "print(solution_lights(solution))"
   ]
  },
  {
   "cell_type": "code",
   "execution_count": null,
   "metadata": {},
   "outputs": [],
   "source": []
  }
 ]
}