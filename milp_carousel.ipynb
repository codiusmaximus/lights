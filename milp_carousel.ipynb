{
 "cells": [
  {
   "cell_type": "code",
   "execution_count": 1,
   "metadata": {},
   "outputs": [
    {
     "output_type": "stream",
     "name": "stdout",
     "text": "solution found\nYellow is OFF , Red is OFF , Green is ON , Blue is ON , Purple is OFF\n"
    }
   ],
   "source": [
    "from cvxopt import matrix\n",
    "from cvxopt import glpk\n",
    "\n",
    "# solution interpreter\n",
    "# order: Y R G B P\n",
    "def solution_lights(sol_list):\n",
    "    sol_var = ['Yellow', 'Red', 'Green', 'Blue', 'Purple']\n",
    "    sol_string = [sol_var[i] + ' is ON' if sol_list[i] == 1\n",
    "                  else sol_var[i] + ' is OFF' for i in range(len(sol_var))]\n",
    "    sol_string_out = 'Lights that are on'\n",
    "    return ' , '.join(sol_string)\n",
    "\n",
    "# matrix formulation of the problem\n",
    "# inequality matrices\n",
    "A_ineq = [\n",
    "    [1., -1., 0., 0., 0.],\n",
    "    [0., 1., 1., 0., 0.],\n",
    "    [0., 0., 0., -1., -1.],\n",
    "    [-1., 0., 0., -1., 2.],\n",
    "]\n",
    "B_ineq = [[0., 1., -1., 0.]]\n",
    "\n",
    "# equality matrices\n",
    "A_eq = [[0., 0., -1., 1., 0.]]\n",
    "B_eq = [0.]\n",
    "\n",
    "# cost function\n",
    "# Q to the reader: does it matter in this case?\n",
    "# try the other cost functions to see\n",
    "c = [0, 0, 0, 0, 0, 0]\n",
    "\n",
    "# optional check for cost functions\n",
    "# c = [1.,1.,1.,1.,1.]\n",
    "# c = [-1.,-1.,-1.,-1.,-1.]\n",
    "\n",
    "# these are the indices of the variables (we are solving) for that are\n",
    "# to be treated as binary. the order of the variables is one set by our matrix formulation\n",
    "Binary_ind = range(5)\n",
    "\n",
    "# formulate the problem in terms of GLPK\n",
    "c, A_ineq, B_ineq, A_eq, B_eq = matrix(c), matrix(A_ineq).T, matrix(B_ineq), matrix(A_eq).T, matrix(B_eq)\n",
    "\n",
    "# solve the problem\n",
    "status, solution = glpk.ilp(c, A_ineq, B_ineq, A_eq, B_eq, B=set(Binary_ind))\n",
    "\n",
    "# print the results using the result parser\n",
    "if status == 'optimal':\n",
    "    print('solution found')\n",
    "    print(solution_lights(solution))\n",
    "else:\n",
    "    print(status)\n",
    ""
   ]
  },
  {
   "cell_type": "code",
   "execution_count": null,
   "metadata": {},
   "outputs": [],
   "source": []
  }
 ],
 "metadata": {
  "language_info": {
   "name": "python",
   "codemirror_mode": {
    "name": "ipython",
    "version": 3
   },
   "version": "3.8.2-final"
  },
  "orig_nbformat": 2,
  "file_extension": ".py",
  "mimetype": "text/x-python",
  "name": "python",
  "npconvert_exporter": "python",
  "pygments_lexer": "ipython3",
  "version": 3,
  "kernelspec": {
   "name": "python3",
   "display_name": "Python 3"
  }
 },
 "nbformat": 4,
 "nbformat_minor": 2
}